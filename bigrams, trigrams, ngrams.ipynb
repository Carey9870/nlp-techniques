{
 "cells": [
  {
   "cell_type": "code",
   "execution_count": 1,
   "metadata": {},
   "outputs": [],
   "source": [
    "import nltk"
   ]
  },
  {
   "cell_type": "code",
   "execution_count": 2,
   "metadata": {},
   "outputs": [],
   "source": [
    "from nltk.util import bigrams, trigrams, ngrams"
   ]
  },
  {
   "cell_type": "code",
   "execution_count": 18,
   "metadata": {},
   "outputs": [
    {
     "name": "stdout",
     "output_type": "stream",
     "text": [
      "['The', 'best', 'and', 'most', 'beautiful', 'things', 'in', 'the', 'world', 'can', 'not', 'be', 'seen', 'or', 'even', 'touched', ',', 'they', 'must', 'be', 'felt', 'with', 'the', 'heart']\n"
     ]
    }
   ],
   "source": [
    "stringp = 'The best and most beautiful things in the world cannot be seen or even touched, they must be felt with the heart'\n",
    "\n",
    "quotes_tokens = nltk.word_tokenize(stringp)\n",
    "print(quotes_tokens)"
   ]
  },
  {
   "cell_type": "code",
   "execution_count": 19,
   "metadata": {},
   "outputs": [
    {
     "name": "stdout",
     "output_type": "stream",
     "text": [
      "[('The', 'best'), ('best', 'and'), ('and', 'most'), ('most', 'beautiful'), ('beautiful', 'things'), ('things', 'in'), ('in', 'the'), ('the', 'world'), ('world', 'can'), ('can', 'not'), ('not', 'be'), ('be', 'seen'), ('seen', 'or'), ('or', 'even'), ('even', 'touched'), ('touched', ','), (',', 'they'), ('they', 'must'), ('must', 'be'), ('be', 'felt'), ('felt', 'with'), ('with', 'the'), ('the', 'heart')]\n"
     ]
    }
   ],
   "source": [
    "bigram = list(bigrams(quotes_tokens))\n",
    "print(bigram)"
   ]
  },
  {
   "cell_type": "code",
   "execution_count": 20,
   "metadata": {},
   "outputs": [
    {
     "name": "stdout",
     "output_type": "stream",
     "text": [
      "[('The', 'best', 'and'), ('best', 'and', 'most'), ('and', 'most', 'beautiful'), ('most', 'beautiful', 'things'), ('beautiful', 'things', 'in'), ('things', 'in', 'the'), ('in', 'the', 'world'), ('the', 'world', 'can'), ('world', 'can', 'not'), ('can', 'not', 'be'), ('not', 'be', 'seen'), ('be', 'seen', 'or'), ('seen', 'or', 'even'), ('or', 'even', 'touched'), ('even', 'touched', ','), ('touched', ',', 'they'), (',', 'they', 'must'), ('they', 'must', 'be'), ('must', 'be', 'felt'), ('be', 'felt', 'with'), ('felt', 'with', 'the'), ('with', 'the', 'heart')]\n"
     ]
    }
   ],
   "source": [
    "trigram = list(trigrams(quotes_tokens))\n",
    "print(trigram)"
   ]
  },
  {
   "cell_type": "code",
   "execution_count": 21,
   "metadata": {},
   "outputs": [
    {
     "name": "stdout",
     "output_type": "stream",
     "text": [
      "[('The', 'best', 'and', 'most', 'beautiful', 'things', 'in', 'the', 'world'), ('best', 'and', 'most', 'beautiful', 'things', 'in', 'the', 'world', 'can'), ('and', 'most', 'beautiful', 'things', 'in', 'the', 'world', 'can', 'not'), ('most', 'beautiful', 'things', 'in', 'the', 'world', 'can', 'not', 'be'), ('beautiful', 'things', 'in', 'the', 'world', 'can', 'not', 'be', 'seen'), ('things', 'in', 'the', 'world', 'can', 'not', 'be', 'seen', 'or'), ('in', 'the', 'world', 'can', 'not', 'be', 'seen', 'or', 'even'), ('the', 'world', 'can', 'not', 'be', 'seen', 'or', 'even', 'touched'), ('world', 'can', 'not', 'be', 'seen', 'or', 'even', 'touched', ','), ('can', 'not', 'be', 'seen', 'or', 'even', 'touched', ',', 'they'), ('not', 'be', 'seen', 'or', 'even', 'touched', ',', 'they', 'must'), ('be', 'seen', 'or', 'even', 'touched', ',', 'they', 'must', 'be'), ('seen', 'or', 'even', 'touched', ',', 'they', 'must', 'be', 'felt'), ('or', 'even', 'touched', ',', 'they', 'must', 'be', 'felt', 'with'), ('even', 'touched', ',', 'they', 'must', 'be', 'felt', 'with', 'the'), ('touched', ',', 'they', 'must', 'be', 'felt', 'with', 'the', 'heart')]\n"
     ]
    }
   ],
   "source": [
    "ngram = list(ngrams(quotes_tokens, n=9))\n",
    "print(ngram)"
   ]
  }
 ],
 "metadata": {
  "kernelspec": {
   "display_name": "Python 3.10.2 64-bit",
   "language": "python",
   "name": "python3"
  },
  "language_info": {
   "codemirror_mode": {
    "name": "ipython",
    "version": 3
   },
   "file_extension": ".py",
   "mimetype": "text/x-python",
   "name": "python",
   "nbconvert_exporter": "python",
   "pygments_lexer": "ipython3",
   "version": "3.10.2"
  },
  "orig_nbformat": 4,
  "vscode": {
   "interpreter": {
    "hash": "412ccff6fb13ee14c93d2b8b85fab99f2d3a6250a390f2b105cadca88f5395d9"
   }
  }
 },
 "nbformat": 4,
 "nbformat_minor": 2
}
